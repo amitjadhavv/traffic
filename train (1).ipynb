{
 "cells": [
  {
   "cell_type": "code",
   "execution_count": 1,
   "metadata": {},
   "outputs": [],
   "source": [
    "import os\n",
    "import numpy as np\n",
    "import pandas as pd\n",
    "from PIL import Image\n",
    "import tensorflow as tf\n",
    "from sklearn.model_selection import train_test_split"
   ]
  },
  {
   "cell_type": "code",
   "execution_count": 2,
   "metadata": {},
   "outputs": [
    {
     "name": "stdout",
     "output_type": "stream",
     "text": [
      "/home/amit\n"
     ]
    }
   ],
   "source": [
    "X = []\n",
    "Y = []\n",
    "total_class = 10\n",
    "cur_directory = os.getcwd()\n",
    "print(cur_directory)"
   ]
  },
  {
   "cell_type": "code",
   "execution_count": 3,
   "metadata": {},
   "outputs": [],
   "source": [
    "for index in range(1,total_class):\n",
    "    path = os.path.join(cur_directory,'signs/',str(index))\n",
    "    images = os.listdir(path)\n",
    "    for img in images:\n",
    "        try:\n",
    "            image = Image.open(path+'/'+img)\n",
    "            image = image.resize((100,100))\n",
    "            image = np.array(image)\n",
    "            if image.shape ==(100,100, 3):\n",
    "                X.append(image)\n",
    "                Y.append(index)\n",
    "        except Exception as e:\n",
    "            print(e)"
   ]
  },
  {
   "cell_type": "code",
   "execution_count": 4,
   "metadata": {},
   "outputs": [
    {
     "name": "stdout",
     "output_type": "stream",
     "text": [
      "(179, 100, 100, 3) (179,)\n"
     ]
    }
   ],
   "source": [
    "X = np.array(X)\n",
    "Y = np.array(Y)\n",
    "print(X.shape, Y.shape)"
   ]
  },
  {
   "cell_type": "code",
   "execution_count": 5,
   "metadata": {},
   "outputs": [],
   "source": [
    "Y = tf.keras.utils.to_categorical(Y, 10)"
   ]
  },
  {
   "cell_type": "code",
   "execution_count": 6,
   "metadata": {},
   "outputs": [],
   "source": [
    "model = tf.keras.Sequential()\n",
    "model.add(tf.keras.layers.Conv2D(filters=64, kernel_size=(5,5), activation='relu', input_shape=X.shape[1:]))\n",
    "#model.add(tf.keras.layers.Conv2D(filters=32, kernel_size=(5,5), activation='relu'))\n",
    "model.add(tf.keras.layers.MaxPool2D(pool_size=(2, 2)))\n",
    "model.add(tf.keras.layers.Dropout(rate=0.25))\n",
    "model.add(tf.keras.layers.Conv2D(filters=64, kernel_size=(3, 3), activation='relu'))\n",
    "#model.add(tf.keras.layers.Conv2D(filters=64, kernel_size=(3, 3), activation='relu'))\n",
    "model.add(tf.keras.layers.MaxPool2D(pool_size=(2, 2)))\n",
    "model.add(tf.keras.layers.Dropout(rate=0.25))\n",
    "model.add(tf.keras.layers.Flatten())\n",
    "model.add(tf.keras.layers.Dense(256, activation='relu'))\n",
    "#model.add(tf.keras.layers.Dropout(rate=0.5))\n",
    "model.add(tf.keras.layers.Dense(10, activation='softmax'))"
   ]
  },
  {
   "cell_type": "code",
   "execution_count": 7,
   "metadata": {},
   "outputs": [
    {
     "name": "stdout",
     "output_type": "stream",
     "text": [
      "Epoch 1/15\n",
      "3/3 [==============================] - 3s 728ms/step - loss: 764.1554 - accuracy: 0.2346\n",
      "Epoch 2/15\n",
      "3/3 [==============================] - 2s 709ms/step - loss: 323.9011 - accuracy: 0.2514\n",
      "Epoch 3/15\n",
      "3/3 [==============================] - 2s 739ms/step - loss: 31.7337 - accuracy: 0.3855\n",
      "Epoch 4/15\n",
      "3/3 [==============================] - 2s 717ms/step - loss: 4.0391 - accuracy: 0.3520\n",
      "Epoch 5/15\n",
      "3/3 [==============================] - 2s 712ms/step - loss: 1.4491 - accuracy: 0.6089\n",
      "Epoch 6/15\n",
      "3/3 [==============================] - 2s 697ms/step - loss: 0.9917 - accuracy: 0.7095\n",
      "Epoch 7/15\n",
      "3/3 [==============================] - 2s 696ms/step - loss: 0.6206 - accuracy: 0.8324\n",
      "Epoch 8/15\n",
      "3/3 [==============================] - 2s 747ms/step - loss: 0.5663 - accuracy: 0.8380\n",
      "Epoch 9/15\n",
      "3/3 [==============================] - 2s 698ms/step - loss: 0.4173 - accuracy: 0.8827\n",
      "Epoch 10/15\n",
      "3/3 [==============================] - 2s 716ms/step - loss: 0.3055 - accuracy: 0.8939\n",
      "Epoch 11/15\n",
      "3/3 [==============================] - 2s 716ms/step - loss: 0.2487 - accuracy: 0.9106\n",
      "Epoch 12/15\n",
      "3/3 [==============================] - 2s 705ms/step - loss: 0.1700 - accuracy: 0.9553\n",
      "Epoch 13/15\n",
      "3/3 [==============================] - 2s 697ms/step - loss: 0.1425 - accuracy: 0.9609\n",
      "Epoch 14/15\n",
      "3/3 [==============================] - 2s 700ms/step - loss: 0.1134 - accuracy: 0.9665\n",
      "Epoch 15/15\n",
      "3/3 [==============================] - 2s 757ms/step - loss: 0.1568 - accuracy: 0.9609\n"
     ]
    }
   ],
   "source": [
    "model.compile(loss='categorical_crossentropy', optimizer='adam', metrics=['accuracy'])\n",
    "epochs = 15\n",
    "history = model.fit(X, Y, batch_size=64, epochs=epochs)\n",
    "model.save('traffic.h5')"
   ]
  },
  {
   "cell_type": "code",
   "execution_count": null,
   "metadata": {},
   "outputs": [],
   "source": []
  }
 ],
 "metadata": {
  "kernelspec": {
   "display_name": "Python 3",
   "language": "python",
   "name": "python3"
  },
  "language_info": {
   "codemirror_mode": {
    "name": "ipython",
    "version": 3
   },
   "file_extension": ".py",
   "mimetype": "text/x-python",
   "name": "python",
   "nbconvert_exporter": "python",
   "pygments_lexer": "ipython3",
   "version": "3.8.5"
  }
 },
 "nbformat": 4,
 "nbformat_minor": 4
}
