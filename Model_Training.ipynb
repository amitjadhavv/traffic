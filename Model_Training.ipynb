{
 "cells": [
  {
   "cell_type": "code",
   "execution_count": 1,
   "metadata": {},
   "outputs": [],
   "source": [
    "import tensorflow as tf\n",
    "import os\n",
    "import pandas as pd\n",
    "import numpy as np\n",
    "from sklearn.model_selection import train_test_split\n",
    "from PIL import Image\n",
    "import cv2\n",
    "from tensorflow.keras.optimizers import Adam\n",
    "#from tensorflow.keras.preprocessing.image import ImageDataGenerator"
   ]
  },
  {
   "cell_type": "code",
   "execution_count": 2,
   "metadata": {},
   "outputs": [
    {
     "name": "stdout",
     "output_type": "stream",
     "text": [
      "\n"
     ]
    }
   ],
   "source": [
    "import tensorflow as tf\n",
    "print(tf.test.gpu_device_name())"
   ]
  },
  {
   "cell_type": "code",
   "execution_count": 3,
   "metadata": {},
   "outputs": [],
   "source": [
    "class myCallback(tf.keras.callbacks.Callback):\n",
    "    def on_epoch_end(self, epoch, logs={}):\n",
    "        if(logs.get('val_accuracy')>0.985 and logs.get('accuracy')>0.99):\n",
    "            print(\"\\nReached 98% accuracy so cancelling training!\")\n",
    "            self.model.stop_training = True"
   ]
  },
  {
   "cell_type": "code",
   "execution_count": 4,
   "metadata": {},
   "outputs": [
    {
     "name": "stdout",
     "output_type": "stream",
     "text": [
      "/home/amit/project\n",
      "(23249, 32, 32, 3) (23249,)\n",
      "(18599, 32, 32, 3) (18599,)\n",
      "(4650, 32, 32, 3) (4650,)\n",
      "(18599, 32, 32, 3) (18599, 27)\n",
      "(4650, 32, 32, 3) (4650, 27)\n"
     ]
    }
   ],
   "source": [
    "X = []\n",
    "Y = []\n",
    "total_class = 27\n",
    "cur_directory = os.getcwd()\n",
    "print(cur_directory)\n",
    "\n",
    "for index in range(total_class):\n",
    "    path = os.path.join(cur_directory,'archive/train/',str(index))\n",
    "    images = os.listdir(path)\n",
    "    for img in images:\n",
    "        try:\n",
    "            image=cv2.imread(path+'/'+img)\n",
    "            image = cv2.resize(image,(32,32))\n",
    "            X.append(image)\n",
    "            Y.append(index)\n",
    "        except Ecxeption as e: \n",
    "            print(\"Error loading image\")\n",
    "X = np.array(X)\n",
    "Y = np.array(Y)\n",
    "print(X.shape, Y.shape)\n",
    "x_train, x_test, y_train, y_test = train_test_split(X, Y, test_size=0.2, random_state=42)\n",
    "print(x_train.shape,y_train.shape)\n",
    "print(x_test.shape,y_test.shape)\n",
    "y_train = tf.keras.utils.to_categorical(y_train, total_class)\n",
    "y_test = tf.keras.utils.to_categorical(y_test, total_class)\n",
    "print(x_train.shape,y_train.shape)\n",
    "print(x_test.shape,y_test.shape)"
   ]
  },
  {
   "cell_type": "code",
   "execution_count": 5,
   "metadata": {},
   "outputs": [],
   "source": [
    "model = tf.keras.Sequential()\n",
    "model.add(tf.keras.layers.Conv2D(filters=16, kernel_size=(5,5), activation='relu', input_shape=(32, 32, 3)))\n",
    "#model.add(tf.keras.layers.MaxPool2D(pool_size=(2, 2)))\n",
    "model.add(tf.keras.layers.Conv2D(filters=32, kernel_size=(5,5), activation='relu'))\n",
    "model.add(tf.keras.layers.MaxPool2D(pool_size=(2, 2)))\n",
    "model.add(tf.keras.layers.Dropout(rate=0.25))\n",
    "model.add(tf.keras.layers.Conv2D(filters=64, kernel_size=(3, 3), activation='relu'))\n",
    "# model.add(tf.keras.layers.MaxPool2D(pool_size=(2, 2)))\n",
    "# model.add(tf.keras.layers.Dropout(rate=0.25))\n",
    "model.add(tf.keras.layers.Conv2D(filters=64, kernel_size=(3, 3), activation='relu'))\n",
    "model.add(tf.keras.layers.MaxPool2D(pool_size=(2, 2)))\n",
    "model.add(tf.keras.layers.Dropout(rate=0.25))\n",
    "model.add(tf.keras.layers.Flatten())\n",
    "model.add(tf.keras.layers.Dense(512, activation='relu'))\n",
    "model.add(tf.keras.layers.Dropout(rate=0.5))\n",
    "model.add(tf.keras.layers.Dense(27, activation='softmax'))"
   ]
  },
  {
   "cell_type": "code",
   "execution_count": 6,
   "metadata": {},
   "outputs": [],
   "source": [
    "opt=Adam(lr=0.001, decay=0.001 / (20 * 0.5))\n",
    "model.compile(loss='categorical_crossentropy',\n",
    "              optimizer=opt,\n",
    "              metrics=['accuracy'])"
   ]
  },
  {
   "cell_type": "code",
   "execution_count": 7,
   "metadata": {
    "scrolled": true
   },
   "outputs": [
    {
     "name": "stdout",
     "output_type": "stream",
     "text": [
      "Epoch 1/40\n",
      "582/582 [==============================] - 32s 55ms/step - loss: 1.3340 - accuracy: 0.6737 - val_loss: 0.2022 - val_accuracy: 0.9465\n",
      "Epoch 2/40\n",
      "582/582 [==============================] - 32s 55ms/step - loss: 0.3367 - accuracy: 0.9069 - val_loss: 0.0644 - val_accuracy: 0.9817\n",
      "Epoch 3/40\n",
      "582/582 [==============================] - 35s 61ms/step - loss: 0.1910 - accuracy: 0.9462 - val_loss: 0.0425 - val_accuracy: 0.9899\n",
      "Epoch 4/40\n",
      "582/582 [==============================] - 34s 59ms/step - loss: 0.1652 - accuracy: 0.9550 - val_loss: 0.0357 - val_accuracy: 0.9918\n",
      "Epoch 5/40\n",
      "582/582 [==============================] - 32s 55ms/step - loss: 0.1291 - accuracy: 0.9663 - val_loss: 0.0207 - val_accuracy: 0.9951\n",
      "Epoch 6/40\n",
      "582/582 [==============================] - 31s 54ms/step - loss: 0.0888 - accuracy: 0.9747 - val_loss: 0.0273 - val_accuracy: 0.9931\n",
      "Epoch 7/40\n",
      "582/582 [==============================] - 33s 57ms/step - loss: 0.1011 - accuracy: 0.9727 - val_loss: 0.0305 - val_accuracy: 0.9905\n",
      "Epoch 8/40\n",
      "582/582 [==============================] - 27s 46ms/step - loss: 0.0999 - accuracy: 0.9744 - val_loss: 0.0209 - val_accuracy: 0.9944\n",
      "Epoch 9/40\n",
      "582/582 [==============================] - 25s 44ms/step - loss: 0.0714 - accuracy: 0.9810 - val_loss: 0.0303 - val_accuracy: 0.9927\n",
      "Epoch 10/40\n",
      "582/582 [==============================] - 33s 56ms/step - loss: 0.0734 - accuracy: 0.9815 - val_loss: 0.0245 - val_accuracy: 0.9955\n",
      "Epoch 11/40\n",
      "582/582 [==============================] - 33s 56ms/step - loss: 0.0621 - accuracy: 0.9841 - val_loss: 0.0219 - val_accuracy: 0.9961\n",
      "Epoch 12/40\n",
      "582/582 [==============================] - 33s 57ms/step - loss: 0.0686 - accuracy: 0.9819 - val_loss: 0.0156 - val_accuracy: 0.9959\n",
      "Epoch 13/40\n",
      "582/582 [==============================] - 33s 56ms/step - loss: 0.0509 - accuracy: 0.9873 - val_loss: 0.0180 - val_accuracy: 0.9959\n",
      "Epoch 14/40\n",
      "582/582 [==============================] - 33s 56ms/step - loss: 0.0510 - accuracy: 0.9885 - val_loss: 0.0207 - val_accuracy: 0.9944\n",
      "Epoch 15/40\n",
      "582/582 [==============================] - 33s 57ms/step - loss: 0.0532 - accuracy: 0.9870 - val_loss: 0.0265 - val_accuracy: 0.9920\n",
      "Epoch 16/40\n",
      "582/582 [==============================] - 33s 56ms/step - loss: 0.0554 - accuracy: 0.9871 - val_loss: 0.0183 - val_accuracy: 0.9959\n",
      "Epoch 17/40\n",
      "582/582 [==============================] - 33s 56ms/step - loss: 0.0372 - accuracy: 0.9897 - val_loss: 0.0126 - val_accuracy: 0.9961\n",
      "Epoch 18/40\n",
      "582/582 [==============================] - 33s 56ms/step - loss: 0.0395 - accuracy: 0.9898 - val_loss: 0.0139 - val_accuracy: 0.9976\n",
      "Epoch 19/40\n",
      "581/582 [============================>.] - ETA: 0s - loss: 0.0319 - accuracy: 0.9920\n",
      "Reached 98% accuracy so cancelling training!\n",
      "582/582 [==============================] - 33s 56ms/step - loss: 0.0319 - accuracy: 0.9920 - val_loss: 0.0160 - val_accuracy: 0.9974\n"
     ]
    }
   ],
   "source": [
    "callbacks = myCallback()\n",
    "history = model.fit(x_train, y_train,  epochs=40,validation_data=(x_test, y_test),callbacks=[callbacks])"
   ]
  },
  {
   "cell_type": "code",
   "execution_count": 8,
   "metadata": {},
   "outputs": [],
   "source": [
    "model.save('model2.h5')"
   ]
  },
  {
   "cell_type": "code",
   "execution_count": 9,
   "metadata": {},
   "outputs": [
    {
     "name": "stdout",
     "output_type": "stream",
     "text": [
      "Model: \"sequential\"\n",
      "_________________________________________________________________\n",
      "Layer (type)                 Output Shape              Param #   \n",
      "=================================================================\n",
      "conv2d (Conv2D)              (None, 28, 28, 16)        1216      \n",
      "_________________________________________________________________\n",
      "conv2d_1 (Conv2D)            (None, 24, 24, 32)        12832     \n",
      "_________________________________________________________________\n",
      "max_pooling2d (MaxPooling2D) (None, 12, 12, 32)        0         \n",
      "_________________________________________________________________\n",
      "dropout (Dropout)            (None, 12, 12, 32)        0         \n",
      "_________________________________________________________________\n",
      "conv2d_2 (Conv2D)            (None, 10, 10, 64)        18496     \n",
      "_________________________________________________________________\n",
      "conv2d_3 (Conv2D)            (None, 8, 8, 64)          36928     \n",
      "_________________________________________________________________\n",
      "max_pooling2d_1 (MaxPooling2 (None, 4, 4, 64)          0         \n",
      "_________________________________________________________________\n",
      "dropout_1 (Dropout)          (None, 4, 4, 64)          0         \n",
      "_________________________________________________________________\n",
      "flatten (Flatten)            (None, 1024)              0         \n",
      "_________________________________________________________________\n",
      "dense (Dense)                (None, 512)               524800    \n",
      "_________________________________________________________________\n",
      "dropout_2 (Dropout)          (None, 512)               0         \n",
      "_________________________________________________________________\n",
      "dense_1 (Dense)              (None, 27)                13851     \n",
      "=================================================================\n",
      "Total params: 608,123\n",
      "Trainable params: 608,123\n",
      "Non-trainable params: 0\n",
      "_________________________________________________________________\n"
     ]
    }
   ],
   "source": [
    "model.summary()"
   ]
  },
  {
   "cell_type": "code",
   "execution_count": 10,
   "metadata": {},
   "outputs": [],
   "source": [
    "img=cv2.imread(\"train/.\")"
   ]
  },
  {
   "cell_type": "code",
   "execution_count": 11,
   "metadata": {},
   "outputs": [],
   "source": [
    "img=cv2.resize(img,(32,32))"
   ]
  },
  {
   "cell_type": "code",
   "execution_count": 15,
   "metadata": {},
   "outputs": [],
   "source": [
    "a=np.expand_dims(img,axis=0)"
   ]
  },
  {
   "cell_type": "code",
   "execution_count": 18,
   "metadata": {},
   "outputs": [
    {
     "data": {
      "text/plain": [
       "array([16])"
      ]
     },
     "execution_count": 18,
     "metadata": {},
     "output_type": "execute_result"
    }
   ],
   "source": [
    "model.predict_classes(a)"
   ]
  },
  {
   "cell_type": "code",
   "execution_count": null,
   "metadata": {},
   "outputs": [],
   "source": []
  }
 ],
 "metadata": {
  "kernelspec": {
   "display_name": "Python 3",
   "language": "python",
   "name": "python3"
  },
  "language_info": {
   "codemirror_mode": {
    "name": "ipython",
    "version": 3
   },
   "file_extension": ".py",
   "mimetype": "text/x-python",
   "name": "python",
   "nbconvert_exporter": "python",
   "pygments_lexer": "ipython3",
   "version": "3.8.5"
  }
 },
 "nbformat": 4,
 "nbformat_minor": 4
}
